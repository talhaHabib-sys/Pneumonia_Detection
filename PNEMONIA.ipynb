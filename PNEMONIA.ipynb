{
 "cells": [
  {
   "cell_type": "code",
   "execution_count": 47,
   "metadata": {},
   "outputs": [],
   "source": [
    "import tensorflow as tf\n",
    "import matplotlib.pyplot as pyt\n",
    "import cv2\n",
    "import numpy as n\n",
    "from tensorflow.keras.preprocessing.image import ImageDataGenerator\n",
    "import os\n",
    "from tensorflow.keras.preprocessing import image"
   ]
  },
  {
   "cell_type": "code",
   "execution_count": 48,
   "metadata": {},
   "outputs": [],
   "source": [
    "train=ImageDataGenerator(rescale=1/255)\n",
    "validation=ImageDataGenerator(rescale=1/255)"
   ]
  },
  {
   "cell_type": "code",
   "execution_count": null,
   "metadata": {},
   "outputs": [],
   "source": []
  },
  {
   "cell_type": "code",
   "execution_count": 49,
   "metadata": {},
   "outputs": [
    {
     "name": "stdout",
     "output_type": "stream",
     "text": [
      "Found 1559 images belonging to 2 classes.\n",
      "Found 16 images belonging to 2 classes.\n"
     ]
    }
   ],
   "source": [
    "train_dataset=train.flow_from_directory('C:\\\\Users\\\\Talha Habib\\\\Desktop\\\\pnemonia\\\\train',target_size=(1000,850),batch_size=8,class_mode='binary')\n",
    "validation_dataset=validation.flow_from_directory('C:\\\\Users\\\\Talha Habib\\\\Desktop\\\\pnemonia\\\\val',target_size=(1000,850),batch_size=2,class_mode='binary')"
   ]
  },
  {
   "cell_type": "code",
   "execution_count": 50,
   "metadata": {},
   "outputs": [
    {
     "data": {
      "text/plain": [
       "{'NORMAL': 0, 'PNEUMONIA': 1}"
      ]
     },
     "execution_count": 50,
     "metadata": {},
     "output_type": "execute_result"
    }
   ],
   "source": [
    "\n",
    "validation_dataset.class_indices"
   ]
  },
  {
   "cell_type": "code",
   "execution_count": 51,
   "metadata": {},
   "outputs": [],
   "source": [
    "model=tf.keras.models.Sequential([tf.keras.layers.Conv2D(16,(3,3),activation='relu',input_shape=(1000,850,3)),\n",
    "                                \n",
    "                                tf.keras.layers.MaxPool2D(4,4),\n",
    "                                 tf.keras.layers.Conv2D(32,(3,3),activation='relu'),\n",
    "                                 tf.keras.layers.MaxPool2D(4,4),\n",
    "                                 tf.keras.layers.Conv2D(64,(3,3),activation='relu'),\n",
    "                                 tf.keras.layers.MaxPool2D(4,4),\n",
    "                                 tf.keras.layers.Flatten(),\n",
    "                                 tf.keras.layers.Dense(512,activation='relu'),\n",
    "                                 tf.keras.layers.Dense(1,activation='sigmoid')\n",
    "                                ]\n",
    "                               )"
   ]
  },
  {
   "cell_type": "code",
   "execution_count": 52,
   "metadata": {},
   "outputs": [],
   "source": [
    "model.compile(loss='binary_crossentropy',\n",
    "             optimizer= 'adam',\n",
    "             metrics= ['accuracy'])"
   ]
  },
  {
   "cell_type": "code",
   "execution_count": 53,
   "metadata": {},
   "outputs": [
    {
     "name": "stdout",
     "output_type": "stream",
     "text": [
      "WARNING:tensorflow:sample_weight modes were coerced from\n",
      "  ...\n",
      "    to  \n",
      "  ['...']\n",
      "WARNING:tensorflow:sample_weight modes were coerced from\n",
      "  ...\n",
      "    to  \n",
      "  ['...']\n",
      "Train for 8 steps, validate for 8 steps\n",
      "Epoch 1/10\n",
      "8/8 [==============================] - 25s 3s/step - loss: 0.8260 - accuracy: 0.4844 - val_loss: 0.6785 - val_accuracy: 0.5000\n",
      "Epoch 2/10\n",
      "8/8 [==============================] - 24s 3s/step - loss: 0.5621 - accuracy: 0.7656 - val_loss: 0.5131 - val_accuracy: 0.6875\n",
      "Epoch 3/10\n",
      "8/8 [==============================] - 24s 3s/step - loss: 0.4164 - accuracy: 0.9062 - val_loss: 0.4528 - val_accuracy: 0.7500\n",
      "Epoch 4/10\n",
      "8/8 [==============================] - 24s 3s/step - loss: 0.4239 - accuracy: 0.8125 - val_loss: 0.5140 - val_accuracy: 0.6250\n",
      "Epoch 5/10\n",
      "8/8 [==============================] - 24s 3s/step - loss: 0.3925 - accuracy: 0.8125 - val_loss: 0.3153 - val_accuracy: 0.8750\n",
      "Epoch 6/10\n",
      "8/8 [==============================] - 24s 3s/step - loss: 0.3440 - accuracy: 0.8594 - val_loss: 0.3057 - val_accuracy: 0.8125\n",
      "Epoch 7/10\n",
      "8/8 [==============================] - 23s 3s/step - loss: 0.3334 - accuracy: 0.8438 - val_loss: 0.2908 - val_accuracy: 0.9375\n",
      "Epoch 8/10\n",
      "8/8 [==============================] - 24s 3s/step - loss: 0.3129 - accuracy: 0.8281 - val_loss: 0.4158 - val_accuracy: 0.8125\n",
      "Epoch 9/10\n",
      "8/8 [==============================] - 24s 3s/step - loss: 0.3166 - accuracy: 0.8594 - val_loss: 0.1957 - val_accuracy: 0.9375\n",
      "Epoch 10/10\n",
      "8/8 [==============================] - 24s 3s/step - loss: 0.3113 - accuracy: 0.8750 - val_loss: 0.5179 - val_accuracy: 0.7500\n"
     ]
    }
   ],
   "source": [
    "model_fit= model.fit(train_dataset,\n",
    "                    steps_per_epoch=8,\n",
    "                    epochs=10,\n",
    "                    validation_data=validation_dataset)"
   ]
  },
  {
   "cell_type": "code",
   "execution_count": 81,
   "metadata": {},
   "outputs": [
    {
     "name": "stdout",
     "output_type": "stream",
     "text": [
      "normal\n"
     ]
    }
   ],
   "source": [
    "v=cv2.imread('C:\\\\Users\\\\Talha Habib\\\\Desktop\\\\pnemonia\\\\test\\\\NORMAL\\\\IM-0007-0001.jpeg')\n",
    "v=cv2.resize(v,(850,1000))\n",
    "v=n.array(v)\n",
    "v=n.expand_dims(v,axis=0)\n",
    "val=model.predict(v)\n",
    "if val==0:\n",
    "    print('normal')\n",
    "elif val==1:\n",
    "    print('pnemonia')\n",
    "    "
   ]
  },
  {
   "cell_type": "code",
   "execution_count": null,
   "metadata": {},
   "outputs": [],
   "source": []
  }
 ],
 "metadata": {
  "kernelspec": {
   "display_name": "Python 3",
   "language": "python",
   "name": "python3"
  },
  "language_info": {
   "codemirror_mode": {
    "name": "ipython",
    "version": 3
   },
   "file_extension": ".py",
   "mimetype": "text/x-python",
   "name": "python",
   "nbconvert_exporter": "python",
   "pygments_lexer": "ipython3",
   "version": "3.6.12"
  }
 },
 "nbformat": 4,
 "nbformat_minor": 4
}
